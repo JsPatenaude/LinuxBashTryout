{
 "cells": [
  {
   "cell_type": "code",
   "execution_count": 2,
   "metadata": {},
   "outputs": [],
   "source": [
    "import pandas\n",
    "import statsmodels\n",
    "import matplotlib.pyplot as plt\n",
    "import scipy\n",
    "import numpy\n",
    "import sklearn\n",
    "import theano\n",
    "from numpy import loadtxt\n",
    "from keras.models import Sequential\n",
    "from keras.layers import Dense\n",
    "import quandl\n",
    "import datetime"
   ]
  },
  {
   "cell_type": "code",
   "execution_count": 8,
   "metadata": {},
   "outputs": [
    {
     "data": {
      "text/html": [
       "<div>\n",
       "<style scoped>\n",
       "    .dataframe tbody tr th:only-of-type {\n",
       "        vertical-align: middle;\n",
       "    }\n",
       "\n",
       "    .dataframe tbody tr th {\n",
       "        vertical-align: top;\n",
       "    }\n",
       "\n",
       "    .dataframe thead th {\n",
       "        text-align: right;\n",
       "    }\n",
       "</style>\n",
       "<table border=\"1\" class=\"dataframe\">\n",
       "  <thead>\n",
       "    <tr style=\"text-align: right;\">\n",
       "      <th></th>\n",
       "      <th>Open</th>\n",
       "      <th>High</th>\n",
       "      <th>Low</th>\n",
       "      <th>Close</th>\n",
       "      <th>Volume</th>\n",
       "      <th>Ex-Dividend</th>\n",
       "      <th>Split Ratio</th>\n",
       "      <th>Adj. Open</th>\n",
       "      <th>Adj. High</th>\n",
       "      <th>Adj. Low</th>\n",
       "      <th>Adj. Close</th>\n",
       "      <th>Adj. Volume</th>\n",
       "    </tr>\n",
       "    <tr>\n",
       "      <th>Date</th>\n",
       "      <th></th>\n",
       "      <th></th>\n",
       "      <th></th>\n",
       "      <th></th>\n",
       "      <th></th>\n",
       "      <th></th>\n",
       "      <th></th>\n",
       "      <th></th>\n",
       "      <th></th>\n",
       "      <th></th>\n",
       "      <th></th>\n",
       "      <th></th>\n",
       "    </tr>\n",
       "  </thead>\n",
       "  <tbody>\n",
       "    <tr>\n",
       "      <th>2014-01-02</th>\n",
       "      <td>555.68</td>\n",
       "      <td>557.03</td>\n",
       "      <td>552.021</td>\n",
       "      <td>553.1300</td>\n",
       "      <td>8381600.0</td>\n",
       "      <td>0.0</td>\n",
       "      <td>1.0</td>\n",
       "      <td>73.862376</td>\n",
       "      <td>74.041821</td>\n",
       "      <td>73.376012</td>\n",
       "      <td>73.523423</td>\n",
       "      <td>58671200.0</td>\n",
       "    </tr>\n",
       "    <tr>\n",
       "      <th>2014-01-03</th>\n",
       "      <td>552.86</td>\n",
       "      <td>553.70</td>\n",
       "      <td>540.430</td>\n",
       "      <td>540.9800</td>\n",
       "      <td>14016700.0</td>\n",
       "      <td>0.0</td>\n",
       "      <td>1.0</td>\n",
       "      <td>73.487534</td>\n",
       "      <td>73.599189</td>\n",
       "      <td>71.835308</td>\n",
       "      <td>71.908415</td>\n",
       "      <td>98116900.0</td>\n",
       "    </tr>\n",
       "    <tr>\n",
       "      <th>2014-01-06</th>\n",
       "      <td>537.45</td>\n",
       "      <td>546.80</td>\n",
       "      <td>533.600</td>\n",
       "      <td>543.9300</td>\n",
       "      <td>14736100.0</td>\n",
       "      <td>0.0</td>\n",
       "      <td>1.0</td>\n",
       "      <td>71.439198</td>\n",
       "      <td>72.682024</td>\n",
       "      <td>70.927447</td>\n",
       "      <td>72.300536</td>\n",
       "      <td>103152700.0</td>\n",
       "    </tr>\n",
       "    <tr>\n",
       "      <th>2014-01-07</th>\n",
       "      <td>544.32</td>\n",
       "      <td>545.96</td>\n",
       "      <td>537.925</td>\n",
       "      <td>540.0375</td>\n",
       "      <td>11328900.0</td>\n",
       "      <td>0.0</td>\n",
       "      <td>1.0</td>\n",
       "      <td>72.352376</td>\n",
       "      <td>72.570369</td>\n",
       "      <td>71.502337</td>\n",
       "      <td>71.783135</td>\n",
       "      <td>79302300.0</td>\n",
       "    </tr>\n",
       "    <tr>\n",
       "      <th>2014-01-08</th>\n",
       "      <td>538.81</td>\n",
       "      <td>545.56</td>\n",
       "      <td>538.690</td>\n",
       "      <td>543.4600</td>\n",
       "      <td>9233200.0</td>\n",
       "      <td>0.0</td>\n",
       "      <td>1.0</td>\n",
       "      <td>71.619973</td>\n",
       "      <td>72.517200</td>\n",
       "      <td>71.604022</td>\n",
       "      <td>72.238063</td>\n",
       "      <td>64632400.0</td>\n",
       "    </tr>\n",
       "  </tbody>\n",
       "</table>\n",
       "</div>"
      ],
      "text/plain": [
       "              Open    High      Low     Close      Volume  Ex-Dividend  \\\n",
       "Date                                                                     \n",
       "2014-01-02  555.68  557.03  552.021  553.1300   8381600.0          0.0   \n",
       "2014-01-03  552.86  553.70  540.430  540.9800  14016700.0          0.0   \n",
       "2014-01-06  537.45  546.80  533.600  543.9300  14736100.0          0.0   \n",
       "2014-01-07  544.32  545.96  537.925  540.0375  11328900.0          0.0   \n",
       "2014-01-08  538.81  545.56  538.690  543.4600   9233200.0          0.0   \n",
       "\n",
       "            Split Ratio  Adj. Open  Adj. High   Adj. Low  Adj. Close  \\\n",
       "Date                                                                   \n",
       "2014-01-02          1.0  73.862376  74.041821  73.376012   73.523423   \n",
       "2014-01-03          1.0  73.487534  73.599189  71.835308   71.908415   \n",
       "2014-01-06          1.0  71.439198  72.682024  70.927447   72.300536   \n",
       "2014-01-07          1.0  72.352376  72.570369  71.502337   71.783135   \n",
       "2014-01-08          1.0  71.619973  72.517200  71.604022   72.238063   \n",
       "\n",
       "            Adj. Volume  \n",
       "Date                     \n",
       "2014-01-02   58671200.0  \n",
       "2014-01-03   98116900.0  \n",
       "2014-01-06  103152700.0  \n",
       "2014-01-07   79302300.0  \n",
       "2014-01-08   64632400.0  "
      ]
     },
     "execution_count": 8,
     "metadata": {},
     "output_type": "execute_result"
    }
   ],
   "source": [
    "# We will look at stock prices over the past year, starting at January 1, 2016\n",
    "start = datetime.datetime(2014,1,1)\n",
    "end = datetime.date.today()\n",
    "\n",
    "# Let's get Apple stock data; Apple's ticker symbol is AAPL\n",
    "# First argument is the series we want, second is the source (\"yahoo\" for Yahoo! Finance), third is the start date, fourth is the end date\n",
    "s = \"AAPL\"\n",
    "apple = quandl.get(\"WIKI/\" + s, start_date=start, end_date=end)\n",
    "\n",
    "#We want to see which of those values correspond to what\n",
    "pandas.core.frame.DataFrame\n",
    "\n",
    "apple.head()"
   ]
  },
  {
   "cell_type": "code",
   "execution_count": 23,
   "metadata": {},
   "outputs": [],
   "source": [
    "#We want to see the raw value and select them\n",
    "Open = []\n",
    "Close = []\n",
    "for i in range(len(apple.values)):\n",
    "    #print(apple.values[i][7])\n",
    "    #print(apple.values[i][10])\n",
    "    Open.append(apple.values[i][7])\n",
    "    Close.append(apple.values[i][10])\n"
   ]
  },
  {
   "cell_type": "code",
   "execution_count": 92,
   "metadata": {},
   "outputs": [
    {
     "name": "stdout",
     "output_type": "stream",
     "text": [
      "Le designer et PDG Henrik Fisker a montré un dessin d'un éventuel VUS tout électrique, avec des informations très limitées : deux moteurs électriques, quatre roues motrices, batterie lithium-ion de 80 kWh, autonomie avoisinant les 480 km. Il ajoute que le l'entretien et les réparations seront faits par des ateliers de mécanique franchisés (il ne veut pas de réseau de concessionnaires et il vendra ses véhicules directement aux clients).\n",
      "\n",
      "Le véhicule a une bouille coriace et futuriste, mais pour un VUS, il semble avoir une garde au sol bien basse. Le site internet de Fisker Automotive ajoute qu'il y aura un toit ouvrant, de beaux matériaux à l'intérieur et plein de gadgets électroniques non spécifiés dans le tableau de bord. Henrik Fisker promet que son VUS sera disponible durant la seconde moitié de 2021, ce qui n'est pas exactement demain matin.\n",
      "\n",
      "Prix : 40 000 $ US, mais on ne sait pas si c'est avant ou après les aides gouvernementales (celles que le gouvernement de Donald Trump veut abolir). C'est 1000 $ de plus que la version de base du Modèle Y, qui devrait lui aussi arriver en 2021 si on croit le calendrier de livraison (toujours optimiste) de Tesla.\n",
      "\n",
      "Il faut dire que Fisker est encore une idée plus qu'autre chose.\n",
      "\n",
      "Henrik Fisker, le père de la Karma\n",
      "\n",
      "Fisker, c'est cette petite compagnie lancée par le designer danois Henrik Fisker qui avait dévoilé en 2008 une des plus belles voitures de la décennie, la Fisker Karma, une hybride en parallèle essence-électricité.\n"
     ]
    }
   ],
   "source": [
    "#Getting a newspaper\n",
    "\n",
    "from newspaper import Article \n",
    "\n",
    "url = 'https://auto.lapresse.ca/guide-auto/fisker/201903/19/01-5218827-fisker-devoile-un-vus-electrique-concurrent-du-modele-y.php'\n",
    "article = Article(url)\n",
    "article.download()\n",
    "article.parse()\n",
    "print(article.text)"
   ]
  },
  {
   "cell_type": "code",
   "execution_count": 124,
   "metadata": {},
   "outputs": [
    {
     "name": "stdout",
     "output_type": "stream",
     "text": [
      "['Fisker', 'dévoile', 'un', 'VUS', 'électrique', 'concurrent', 'du', 'Modèle', 'Y', 'Le', 'designer', 'et', 'PDG', 'Henrik', 'Fisker', 'a', 'montré', 'un', 'dessin', \"d'un\", 'éventuel', 'VUS', 'tout', 'électrique,', 'avec', 'des', 'informations', 'très', 'limitées', ':', 'deux', 'moteurs', 'électriques,', 'quatre', 'roues', 'motrices,', 'batterie', 'lithium-ion', 'de', '80', 'kWh,', 'autonomie', 'avoisinant', 'les', '480', 'km.', 'Il', 'ajoute', 'que', 'le', \"l'entretien\", 'et', 'les', 'réparations', 'seront', 'faits', 'par', 'des', 'ateliers', 'de', 'mécanique', 'franchisés', '(il', 'ne', 'veut', 'pas', 'de', 'réseau', 'de', 'concessionnaires', 'et', 'il', 'vendra', 'ses', 'véhicules', 'directement', 'aux', 'clients).', 'Le', 'véhicule', 'a', 'une', 'bouille', 'coriace', 'et', 'futuriste,', 'mais', 'pour', 'un', 'VUS,', 'il', 'semble', 'avoir', 'une', 'garde', 'au', 'sol', 'bien', 'basse.', 'Le', 'site', 'internet', 'de', 'Fisker', 'Automotive', 'ajoute', \"qu'il\", 'y', 'aura', 'un', 'toit', 'ouvrant,', 'de', 'beaux', 'matériaux', 'à', \"l'intérieur\", 'et', 'plein', 'de', 'gadgets', 'électroniques', 'non', 'spécifiés', 'dans', 'le', 'tableau', 'de', 'bord.', 'Henrik', 'Fisker', 'promet', 'que', 'son', 'VUS', 'sera', 'disponible', 'durant', 'la', 'seconde', 'moitié', 'de', '2021,', 'ce', 'qui', \"n'est\", 'pas', 'exactement', 'demain', 'matin.', 'Prix', ':', '40', '000', '$', 'US,', 'mais', 'on', 'ne', 'sait', 'pas', 'si', \"c'est\", 'avant', 'ou', 'après', 'les', 'aides', 'gouvernementales', '(celles', 'que', 'le', 'gouvernement', 'de', 'Donald', 'Trump', 'veut', 'abolir).', \"C'est\", '1000', '$', 'de', 'plus', 'que', 'la', 'version', 'de', 'base', 'du', 'Modèle', 'Y,', 'qui', 'devrait', 'lui', 'aussi', 'arriver', 'en', '2021', 'si', 'on', 'croit', 'le', 'calendrier', 'de', 'livraison', '(toujours', 'optimiste)', 'de', 'Tesla.', 'Il', 'faut', 'dire', 'que', 'Fisker', 'est', 'encore', 'une', 'idée', 'plus', \"qu'autre\", 'chose.', 'Henrik', 'Fisker,', 'le', 'père', 'de', 'la', 'Karma', 'Fisker,', \"c'est\", 'cette', 'petite', 'compagnie', 'lancée', 'par', 'le', 'designer', 'danois', 'Henrik', 'Fisker', 'qui', 'avait', 'dévoilé', 'en', '2008', 'une', 'des', 'plus', 'belles', 'voitures', 'de', 'la', 'décennie,', 'la', 'Fisker', 'Karma,', 'une', 'hybride', 'en', 'parallèle', 'essence-électricité.']\n"
     ]
    }
   ],
   "source": [
    "#Splitting the text\n",
    "\n",
    "article_text = article.title + \" \" + article.text\n",
    "article_Split = str(article_text.split())\n",
    "print(article_Split)\n",
    "\n"
   ]
  },
  {
   "cell_type": "code",
   "execution_count": 181,
   "metadata": {},
   "outputs": [
    {
     "name": "stdout",
     "output_type": "stream",
     "text": [
      "['Fisker', 'VUS', 'Modèle', 'PDG', 'Henrik', 'Fisker', 'VUS', 'VUS', 'Fisker', 'Automotive', 'Henrik', 'Fisker', 'VUS', 'Prix', 'Donald', 'Trump', 'Modèle', 'Tesla', 'Fisker', 'Henrik', 'Fisker', 'Karma', 'Fisker', 'Henrik', 'Fisker', 'Fisker', 'Karma']\n"
     ]
    }
   ],
   "source": [
    "#Getting all the word with a capital letter\n",
    "\n",
    "import re\n",
    "maj_word = re.findall(r\"[A-Z]+\\w+\\w\", article_text)\n",
    "\n",
    "print(maj_word)"
   ]
  },
  {
   "cell_type": "code",
   "execution_count": 182,
   "metadata": {},
   "outputs": [
    {
     "name": "stdout",
     "output_type": "stream",
     "text": [
      "['Fisker', 'VUS', 'Modèle', 'PDG', 'Henrik', 'Automotive', 'Prix', 'Donald', 'Trump', 'Tesla', 'Karma']\n"
     ]
    }
   ],
   "source": [
    "#Get rid of those who are repeated\n",
    "\n",
    "da_real_maj_word = []\n",
    "\n",
    "for word in maj_word:\n",
    "    if word not in da_real_maj_word:\n",
    "        da_real_maj_word.append(word)  \n",
    "    else:\n",
    "        continue\n",
    "\n",
    "        \n",
    "print(da_real_maj_word)     "
   ]
  },
  {
   "cell_type": "code",
   "execution_count": 186,
   "metadata": {},
   "outputs": [
    {
     "name": "stdout",
     "output_type": "stream",
     "text": [
      "['Fisker', 'dévoile', 'VUS', 'Modèle', 'designer', 'PDG', 'Henrik', 'Fisker', 'montré', 'VUS', 'très', 'limitées', 'motrices', 'lithium', 'kWh', 'avoisinant', 'réparations', 'mécanique', 'franchisés', 'réseau', 'concessionnaires', 'vendra', 'véhicules', 'véhicule', 'futuriste', 'VUS', 'internet', 'Fisker', 'Automotive', 'matériaux', 'intérieur', 'spécifiés', 'Henrik', 'Fisker', 'VUS', 'moitié', 'Prix', 'après', 'Donald', 'Trump', 'Modèle', 'Tesla', 'Fisker', 'idée', 'Henrik', 'Fisker', 'père', 'Karma', 'Fisker', 'lancée', 'designer', 'Henrik', 'Fisker', 'dévoilé', 'décennie', 'Fisker', 'Karma', 'parallèle', 'lectricité']\n"
     ]
    }
   ],
   "source": [
    "#2nd way to select word with dictionnary\n",
    "\n",
    "liste = open('liste_francais').read()\n",
    "listed = str(liste.split())\n",
    "\n",
    "\n",
    "\n",
    "words = re.findall(r\"[a-zA-z]+\\w+\\w\", article_text)\n",
    "\n",
    "Nom_propre = []\n",
    "for word in words:\n",
    "    if word not in listed:\n",
    "        Nom_propre.append(word)\n",
    "            \n",
    "print(Nom_propre)\n"
   ]
  },
  {
   "cell_type": "code",
   "execution_count": 188,
   "metadata": {},
   "outputs": [
    {
     "name": "stdout",
     "output_type": "stream",
     "text": [
      "['Fisker', 'dévoile', 'VUS', 'Modèle', 'designer', 'PDG', 'Henrik', 'montré', 'très', 'limitées', 'motrices', 'lithium', 'kWh', 'avoisinant', 'réparations', 'mécanique', 'franchisés', 'réseau', 'concessionnaires', 'vendra', 'véhicules', 'véhicule', 'futuriste', 'internet', 'Automotive', 'matériaux', 'intérieur', 'spécifiés', 'moitié', 'Prix', 'après', 'Donald', 'Trump', 'Tesla', 'idée', 'père', 'Karma', 'lancée', 'dévoilé', 'décennie', 'parallèle', 'lectricité']\n"
     ]
    }
   ],
   "source": [
    "#Get rid of those who are repeated\n",
    "\n",
    "more_words = []\n",
    "\n",
    "for word in Nom_propre:\n",
    "    if word not in more_words:\n",
    "        more_words.append(word)  \n",
    "    else:\n",
    "        continue\n",
    "\n",
    "        \n",
    "print(more_words)  "
   ]
  },
  {
   "cell_type": "code",
   "execution_count": 54,
   "metadata": {},
   "outputs": [
    {
     "name": "stdout",
     "output_type": "stream",
     "text": [
      "['worst', 'crash']\n",
      "['buy']\n",
      "-1\n"
     ]
    }
   ],
   "source": [
    "from newspaper import Article \n",
    "import re\n",
    "\n",
    "url = 'https://www.ccn.com/crypto/bitcoin-price-crash-3000-brutal-worst-case-scenario/2019/07/08/'\n",
    "article2 = Article(url)\n",
    "article2.download()\n",
    "article2.parse()\n",
    "\n",
    "#Splitting the text\n",
    "\n",
    "article_text2 = article2.title + \" \" + article2.text\n",
    "article_Split2 = str(article_text2.split())\n",
    "\n",
    "#2nd way to select word with dictionnary\n",
    "\n",
    "liste2 = open('negative_connotation').read()\n",
    "listed2 = re.findall(r\"[a-zA-z]+\\w+\\w\", liste2)\n",
    "\n",
    "\n",
    "#Finding the word with negative connotation\n",
    "\n",
    "words = re.findall(r\"[a-zA-z]+\\w+\\w\", article_text2)\n",
    "\n",
    "Nom_propre2 = []\n",
    "for word in words:\n",
    "    if word in listed2:\n",
    "        Nom_propre2.append(word)\n",
    "print(Nom_propre2)\n",
    "\n",
    "\n",
    "\n",
    "liste3 = open('positive_connotation').read()\n",
    "listed3 = re.findall(r\"[a-zA-z]+\\w+\\w\", liste3)\n",
    "\n",
    "\n",
    "#Finding the word with positive connotation\n",
    "\n",
    "words = re.findall(r\"[a-zA-z]+\\w+\\w\", article_text2)\n",
    "\n",
    "Nom_propre3 = []\n",
    "for word in words:\n",
    "    if word in listed3:\n",
    "        Nom_propre3.append(word)\n",
    "print(Nom_propre3)\n",
    "\n",
    "value = len(Nom_propre3)-len(Nom_propre2)\n",
    "print(value)\n",
    "\n"
   ]
  },
  {
   "cell_type": "code",
   "execution_count": null,
   "metadata": {},
   "outputs": [],
   "source": []
  }
 ],
 "metadata": {
  "kernelspec": {
   "display_name": "Python 3",
   "language": "python",
   "name": "python3"
  },
  "language_info": {
   "codemirror_mode": {
    "name": "ipython",
    "version": 3
   },
   "file_extension": ".py",
   "mimetype": "text/x-python",
   "name": "python",
   "nbconvert_exporter": "python",
   "pygments_lexer": "ipython3",
   "version": "3.7.3"
  }
 },
 "nbformat": 4,
 "nbformat_minor": 2
}
